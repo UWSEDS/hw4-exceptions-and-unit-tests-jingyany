{
 "cells": [
  {
   "cell_type": "code",
   "execution_count": 2,
   "metadata": {
    "collapsed": false
   },
   "outputs": [],
   "source": [
    "import io\n",
    "from unittest import *\n",
    "import unittest\n",
    "from IPython.nbformat import current"
   ]
  },
  {
   "cell_type": "code",
   "execution_count": 3,
   "metadata": {
    "collapsed": true
   },
   "outputs": [],
   "source": [
    "# This is a function to get access to the other ipython notebook with get_data & delete_data functions\n",
    "def execute_notebook(nbfile): \n",
    "    with io.open(nbfile) as f:\n",
    "        nb = current.read(f, 'json')\n",
    "        \n",
    "    ip = get_ipython()\n",
    "    \n",
    "    for cell in nb.worksheets[0].cells:\n",
    "        if cell.cell_type != 'code':\n",
    "            continue\n",
    "        ip.run_cell(cell.input)"
   ]
  },
  {
   "cell_type": "code",
   "execution_count": 4,
   "metadata": {
    "collapsed": false
   },
   "outputs": [
    {
     "data": {
      "text/plain": [
       "True"
      ]
     },
     "execution_count": 4,
     "metadata": {},
     "output_type": "execute_result"
    },
    {
     "data": {
      "text/plain": [
       "200"
      ]
     },
     "execution_count": 4,
     "metadata": {},
     "output_type": "execute_result"
    },
    {
     "data": {
      "text/plain": [
       "True"
      ]
     },
     "execution_count": 4,
     "metadata": {},
     "output_type": "execute_result"
    },
    {
     "name": "stdout",
     "output_type": "stream",
     "text": [
      "The file does not exist!\n"
     ]
    },
    {
     "data": {
      "text/plain": [
       "False"
      ]
     },
     "execution_count": 4,
     "metadata": {},
     "output_type": "execute_result"
    }
   ],
   "source": [
    "execute_notebook(\"hw4-function.ipynb\")"
   ]
  },
  {
   "cell_type": "markdown",
   "metadata": {},
   "source": [
    "## Test for get_function"
   ]
  },
  {
   "cell_type": "code",
   "execution_count": 21,
   "metadata": {
    "collapsed": true
   },
   "outputs": [],
   "source": [
    "class TestGetData(TestCase):\n",
    "    \n",
    "    #Test 1: If the file presents locally, function get_data should return true¶\n",
    "    def test_get_1(self):\n",
    "        url = 'https://data.seattle.gov/resource/4xy5-26gy.csv'\n",
    "        test1 = get_data(url)\n",
    "        self.assertTrue(test1)  \n",
    "    \n",
    "    #Test 2: file is not present locally, function get_data should download the file and return 200\n",
    "    def test_get_2(self):\n",
    "        url = 'https://data.seattle.gov/resource/4xy5-26gy.csv'\n",
    "        test21 = delete_data(url)\n",
    "        test22 = get_data(url)\n",
    "        self.assertEqual(test22,200)\n",
    "    \n",
    "    #Test 3: file is not present locally and url is not valid, function get_data should return null\"\n",
    "    def test_get_3(self):\n",
    "        url3 = 'https://data.d'\n",
    "        test3 = get_data(url3)\n",
    "        self.assertEqual(None, test3)             "
   ]
  },
  {
   "cell_type": "code",
   "execution_count": 22,
   "metadata": {
    "collapsed": false
   },
   "outputs": [
    {
     "name": "stderr",
     "output_type": "stream",
     "text": [
      "./Users/jingyany/anaconda/lib/python3.6/site-packages/urllib3/connectionpool.py:852: InsecureRequestWarning: Unverified HTTPS request is being made. Adding certificate verification is strongly advised. See: https://urllib3.readthedocs.io/en/latest/advanced-usage.html#ssl-warnings\n",
      "  InsecureRequestWarning)\n",
      ".."
     ]
    },
    {
     "name": "stdout",
     "output_type": "stream",
     "text": [
      "https://data.d doesn't exist!\n"
     ]
    },
    {
     "name": "stderr",
     "output_type": "stream",
     "text": [
      "\n",
      "----------------------------------------------------------------------\n",
      "Ran 3 tests in 1.617s\n",
      "\n",
      "OK\n"
     ]
    },
    {
     "data": {
      "text/plain": [
       "<unittest.runner.TextTestResult run=3 errors=0 failures=0>"
      ]
     },
     "execution_count": 22,
     "metadata": {},
     "output_type": "execute_result"
    }
   ],
   "source": [
    "testGetData = TestGetData()\n",
    "suite = unittest.TestLoader().loadTestsFromModule(testGetData)\n",
    "unittest.TextTestRunner().run(suite)"
   ]
  },
  {
   "cell_type": "markdown",
   "metadata": {},
   "source": [
    "## Test for delete_function"
   ]
  },
  {
   "cell_type": "code",
   "execution_count": 23,
   "metadata": {
    "collapsed": true
   },
   "outputs": [],
   "source": [
    "class TestDeletaData(TestCase):\n",
    "    #Test 1: The Delete function should return true if the file exists and has been deleted\n",
    "    def test_delete1(self):\n",
    "        delete_test1 = get_data('https://data.seattle.gov/resource/4xy5-26gy.csv')\n",
    "        delete_test2 = delete_data('https://data.seattle.gov/resource/4xy5-26gy.csv')\n",
    "        self.assertTrue(delete_test2)\n",
    "    \n",
    "    #Test 2: The Delete function should return false if the file not exists\n",
    "    def test_delete2(self):\n",
    "        delete_test3 = delete_data('https://data.seattle.gov/resource/4859.csv')\n",
    "        self.assertFalse(delete_test3)"
   ]
  },
  {
   "cell_type": "code",
   "execution_count": 24,
   "metadata": {
    "collapsed": false
   },
   "outputs": [
    {
     "name": "stderr",
     "output_type": "stream",
     "text": [
      ".."
     ]
    },
    {
     "name": "stdout",
     "output_type": "stream",
     "text": [
      "The file does not exist!\n"
     ]
    },
    {
     "name": "stderr",
     "output_type": "stream",
     "text": [
      "\n",
      "----------------------------------------------------------------------\n",
      "Ran 2 tests in 0.004s\n",
      "\n",
      "OK\n"
     ]
    },
    {
     "data": {
      "text/plain": [
       "<unittest.runner.TextTestResult run=2 errors=0 failures=0>"
      ]
     },
     "execution_count": 24,
     "metadata": {},
     "output_type": "execute_result"
    }
   ],
   "source": [
    "testDeleteData = TestDeletaData()\n",
    "suite_d = unittest.TestLoader().loadTestsFromModule(testDeleteData)\n",
    "unittest.TextTestRunner().run(suite_d)"
   ]
  },
  {
   "cell_type": "code",
   "execution_count": null,
   "metadata": {
    "collapsed": true
   },
   "outputs": [],
   "source": []
  },
  {
   "cell_type": "code",
   "execution_count": null,
   "metadata": {
    "collapsed": true
   },
   "outputs": [],
   "source": []
  }
 ],
 "metadata": {
  "kernelspec": {
   "display_name": "Python 3",
   "language": "python",
   "name": "python3"
  },
  "language_info": {
   "codemirror_mode": {
    "name": "ipython",
    "version": 3
   },
   "file_extension": ".py",
   "mimetype": "text/x-python",
   "name": "python",
   "nbconvert_exporter": "python",
   "pygments_lexer": "ipython3",
   "version": "3.6.0"
  }
 },
 "nbformat": 4,
 "nbformat_minor": 2
}
